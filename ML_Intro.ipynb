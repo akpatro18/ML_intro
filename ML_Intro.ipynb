{
  "nbformat": 4,
  "nbformat_minor": 0,
  "metadata": {
    "colab": {
      "provenance": []
    },
    "kernelspec": {
      "name": "python3",
      "display_name": "Python 3"
    },
    "language_info": {
      "name": "python"
    }
  },
  "cells": [
    {
      "cell_type": "markdown",
      "source": [
        "Question 1: Explain the differences between AI, ML, Deep Learning (DL), and Data Science (DS).\n",
        "Answer:\n",
        "- Artificial Intelligence (AI): Broad field to create machines that mimic human intelligence.\n",
        "- Machine Learning (ML): Subset of AI where machines learn from data.\n",
        "- Deep Learning (DL): Subset of ML using deep neural networks for complex tasks (images, NLP).\n",
        "- Data Science (DS): Field combining statistics, ML, and domain knowledge to extract insights.\n",
        "\n",
        "Question 2: What are the types of machine learning? Describe each with one real-world example.\n",
        "Answer:\n",
        "1. Supervised Learning: Uses labeled data. Example: Predicting house prices.\n",
        "2. Unsupervised Learning: Finds patterns in unlabeled data. Example: Customer segmentation.\n",
        "3. Reinforcement Learning: Learns via rewards and penalties. Example: Self-driving cars.\n",
        "\n",
        "Question 3: Define overfitting, underfitting, and the bias-variance tradeoff in machine learning.\n",
        "Answer:\n",
        "- Overfitting: Model learns noise, performs poorly on test data.\n",
        "- Underfitting: Model is too simple, fails to capture patterns.\n",
        "- Bias-Variance Tradeoff: Balancing underfitting (high bias) and overfitting (high variance).\n",
        "\n",
        "\n",
        "Question 4: What are outliers in a dataset, and list three common techniques for handling them.\n",
        "Answer:\n",
        "Outliers are data points that deviate significantly from other observations.\n",
        "Techniques:\n",
        "1. Remove using IQR or Z-score.\n",
        "2. Cap/Floor values (Winsorization).\n",
        "3. Transform data (log/Box-Cox).\n",
        "\n",
        "\n",
        "Question 5: Explain handling missing values and mention one imputation technique each for numerical & categorical.\n",
        "\n",
        "Answer:\n",
        "Steps:\n",
        "- Identify missing values.\n",
        "- Analyze missingness pattern.\n",
        "- Handle with deletion or imputation.\n",
        "Numerical: Mean/Median imputation.\n",
        "Categorical: Mode imputation."
      ],
      "metadata": {
        "id": "MVOL9v8x2iOz"
      }
    },
    {
      "cell_type": "code",
      "execution_count": 12,
      "metadata": {
        "colab": {
          "base_uri": "https://localhost:8080/"
        },
        "id": "fPHRztEj2gXO",
        "outputId": "579ccba6-634a-4fb7-f824-280079fc1643"
      },
      "outputs": [
        {
          "output_type": "stream",
          "name": "stdout",
          "text": [
            "Class distribution: {np.int64(0): np.int64(894), np.int64(1): np.int64(106)}\n"
          ]
        }
      ],
      "source": [
        "# Question 6: Write a Python program that:\n",
        "#● Creates a synthetic imbalanced dataset with make_classification() from sklearn.datasets.\n",
        "#● Prints the class distribution.\n",
        "\n",
        "from sklearn.datasets import make_classification\n",
        "import numpy as np\n",
        "\n",
        "X, y = make_classification(n_samples=1000, n_features=5, n_informative=3,\n",
        "                           n_redundant=0, weights=[0.9, 0.1], random_state=42)\n",
        "unique, counts = np.unique(y, return_counts=True)\n",
        "print(\"Class distribution:\", dict(zip(unique, counts)))"
      ]
    },
    {
      "cell_type": "code",
      "source": [
        "# Question 7: Implement one-hot encoding using pandas for the following list of colors:['Red', 'Green', 'Blue', 'Green', 'Red']. Print the resulting dataframe from sklearn.datasets import make_classification\n",
        "import pandas as pd\n",
        "colors = ['Red', 'Green', 'Blue', 'Green', 'Red']\n",
        "df = pd.DataFrame(colors, columns=['Color'])\n",
        "df_encoded = pd.get_dummies(df, columns=['Color'])\n",
        "print(df_encoded)"
      ],
      "metadata": {
        "id": "PBBgNR6s3j22",
        "outputId": "4344cfbd-d087-4708-983d-ef56efb001ae",
        "colab": {
          "base_uri": "https://localhost:8080/"
        }
      },
      "execution_count": 10,
      "outputs": [
        {
          "output_type": "stream",
          "name": "stdout",
          "text": [
            "   Color_Blue  Color_Green  Color_Red\n",
            "0       False        False       True\n",
            "1       False         True      False\n",
            "2        True        False      False\n",
            "3       False         True      False\n",
            "4       False        False       True\n"
          ]
        }
      ]
    },
    {
      "cell_type": "code",
      "source": [
        "# Question 8: Write a Python script to:\n",
        "#● Generate 1000 samples from a normal distribution.\n",
        "#● Introduce 50 random missing values.\n",
        "#● Fill missing values with the column mean.\n",
        "#● Plot a histogram before and after imputation.\n",
        "\n",
        "import matplotlib.pyplot as plt\n",
        "\n",
        "data = np.random.normal(loc=50, scale=10, size=1000)\n",
        "data[np.random.choice(1000, 50, replace=False)] = np.nan\n",
        "\n",
        "# Plot before imputation\n",
        "plt.hist(data[~np.isnan(data)], bins=30)\n",
        "plt.title(\"Before Imputation\")\n",
        "plt.show()\n",
        "\n",
        "# Impute with mean\n",
        "df = pd.DataFrame(data, columns=['Value'])\n",
        "df['Value'].fillna(df['Value'].mean(), inplace=True)\n",
        "\n",
        "# Plot after imputation\n",
        "plt.hist(df['Value'], bins=30)\n",
        "plt.title(\"After Imputation\")\n",
        "plt.show()"
      ],
      "metadata": {
        "colab": {
          "base_uri": "https://localhost:8080/",
          "height": 1000
        },
        "id": "HkIMzCGr6gDY",
        "outputId": "5dd4a0f8-a455-4e83-cefa-66491c9f565a"
      },
      "execution_count": 7,
      "outputs": [
        {
          "output_type": "display_data",
          "data": {
            "text/plain": [
              "<Figure size 640x480 with 1 Axes>"
            ],
            "image/png": "[encoded data removed]"
          },
          "metadata": {}
        },
        {
          "output_type": "stream",
          "name": "stderr",
          "text": [
            "/tmp/ipython-input-1797435905.py:19: FutureWarning: A value is trying to be set on a copy of a DataFrame or Series through chained assignment using an inplace method.\n",
            "The behavior will change in pandas 3.0. This inplace method will never work because the intermediate object on which we are setting values always behaves as a copy.\n",
            "\n",
            "For example, when doing 'df[col].method(value, inplace=True)', try using 'df.method({col: value}, inplace=True)' or df[col] = df[col].method(value) instead, to perform the operation inplace on the original object.\n",
            "\n",
            "\n",
            "  df['Value'].fillna(df['Value'].mean(), inplace=True)\n"
          ]
        },
        {
          "output_type": "display_data",
          "data": {
            "text/plain": [
              "<Figure size 640x480 with 1 Axes>"
            ],
            "image/png": "[encoded data removed]"
          },
          "metadata": {}
        }
      ]
    },
    {
      "cell_type": "code",
      "source": [
        "# Question 9: Implement Min-Max scaling on the following list of numbers [2, 5, 10, 15,20] using sklearn.preprocessing.MinMaxScaler. Print the scaled array.\n",
        "\n",
        "from sklearn.preprocessing import MinMaxScaler\n",
        "data = np.array([[2], [5], [10], [15], [20]])\n",
        "scaler = MinMaxScaler()\n",
        "scaled = scaler.fit_transform(data)\n",
        "print(\"Scaled Data:\\n\", scaled)"
      ],
      "metadata": {
        "colab": {
          "base_uri": "https://localhost:8080/"
        },
        "id": "AgOv2Dp66nXV",
        "outputId": "0513752f-892a-49fa-e6bf-384bdc41c02b"
      },
      "execution_count": 8,
      "outputs": [
        {
          "output_type": "stream",
          "name": "stdout",
          "text": [
            "Scaled Data:\n",
            " [[0.        ]\n",
            " [0.16666667]\n",
            " [0.44444444]\n",
            " [0.72222222]\n",
            " [1.        ]]\n"
          ]
        }
      ]
    },
    {
      "cell_type": "code",
      "source": [
        "# Q10. You are working as a data scientist for a retail company. You receive a customer transaction dataset that contains:\n",
        "#● Missing ages,\n",
        "#● Outliers in transaction amount,\n",
        "#● A highly imbalanced target (fraud vs. non-fraud),\n",
        "#● Categorical variables like payment method.\n",
        "#Explain the step-by-step data preparation plan you’d follow before training a machine learning model. Include how you’d address missing data, outliers, imbalance, and encoding\n",
        "\n",
        "import numpy as np\n",
        "import pandas as pd\n",
        "\n",
        "from sklearn.model_selection import train_test_split\n",
        "from sklearn.compose import ColumnTransformer\n",
        "from sklearn.pipeline import Pipeline\n",
        "from sklearn.preprocessing import OneHotEncoder, FunctionTransformer, RobustScaler\n",
        "from sklearn.impute import SimpleImputer\n",
        "from sklearn.linear_model import LogisticRegression\n",
        "from sklearn.metrics import classification_report, confusion_matrix, roc_auc_score, average_precision_score, precision_recall_curve\n",
        "\n",
        "# ---------- 1) Create a synthetic dataset ----------\n",
        "rng = np.random.RandomState(42)\n",
        "n = 8000\n",
        "\n",
        "# Age with some missing\n",
        "age = rng.normal(35, 10, size=n).clip(18, 90)\n",
        "missing_idx = rng.choice(n, size=int(0.12*n), replace=False)  # 12% missing\n",
        "age[missing_idx] = np.nan\n",
        "\n",
        "# Transaction amounts: heavy-tailed + injected outliers\n",
        "amount = np.exp(rng.normal(3.5, 0.9, size=n))  # log-normal-ish\n",
        "outlier_idx = rng.choice(n, size=60, replace=False)\n",
        "amount[outlier_idx] *= 20  # spike some large outliers\n",
        "\n",
        "# Categorical: payment method\n",
        "methods = np.array([\"Card\", \"UPI\", \"Wallet\", \"NetBanking\", \"COD\"])\n",
        "payment = rng.choice(methods, size=n, p=[0.45, 0.3, 0.1, 0.1, 0.05])\n",
        "\n",
        "# Target (highly imbalanced), correlated a bit with large amount & method\n",
        "base_prob = 0.02 + 0.00002*amount  # higher amounts slightly more likely\n",
        "base_prob += np.isin(payment, [\"COD\", \"Wallet\"]) * 0.01\n",
        "base_prob = np.clip(base_prob, 0, 0.9)\n",
        "y = rng.binomial(1, base_prob)\n",
        "\n",
        "df = pd.DataFrame({\n",
        "    \"Age\": age,\n",
        "    \"TransactionAmount\": amount,\n",
        "    \"PaymentMethod\": payment,\n",
        "    \"IsFraud\": y\n",
        "})\n",
        "\n",
        "print(\"Class balance:\", df[\"IsFraud\"].value_counts(normalize=True).to_dict())\n",
        "\n",
        "# ---------- 2) Train/validation split (stratified, to prevent leakage) ----------\n",
        "X = df.drop(columns=[\"IsFraud\"])\n",
        "y = df[\"IsFraud\"]\n",
        "\n",
        "X_train, X_test, y_train, y_test = train_test_split(\n",
        "    X, y, test_size=0.2, stratify=y, random_state=42\n",
        ")\n",
        "\n",
        "# ---------- 3) Preprocess: impute, transform amount, scale, encode ----------\n",
        "num_features = [\"Age\", \"TransactionAmount\"]\n",
        "cat_features = [\"PaymentMethod\"]\n",
        "\n",
        "def log1p_amount(X):\n",
        "    # X is a 2D array for numeric features in column order [Age, TransactionAmount]\n",
        "    X = X.copy()\n",
        "    amt_col = 1  # second column is TransactionAmount\n",
        "    X[:, amt_col] = np.log1p(X[:, amt_col])\n",
        "    return X\n",
        "\n",
        "numeric_pipeline = Pipeline(steps=[\n",
        "    (\"impute\", SimpleImputer(strategy=\"median\")),\n",
        "    (\"log_amount\", FunctionTransformer(log1p_amount, feature_names_out=\"one-to-one\")),\n",
        "    (\"scale\", RobustScaler())\n",
        "])\n",
        "\n",
        "categorical_pipeline = Pipeline(steps=[\n",
        "    (\"impute\", SimpleImputer(strategy=\"most_frequent\")),\n",
        "    (\"onehot\", OneHotEncoder(handle_unknown=\"ignore\", sparse_output=False))\n",
        "])\n",
        "\n",
        "preprocess = ColumnTransformer(\n",
        "    transformers=[\n",
        "        (\"num\", numeric_pipeline, num_features),\n",
        "        (\"cat\", categorical_pipeline, cat_features),\n",
        "    ]\n",
        ")\n",
        "\n",
        "# ---------- 4) Model with class weights (simple approach to imbalance) ----------\n",
        "clf = LogisticRegression(max_iter=200, class_weight=\"balanced\")\n",
        "\n",
        "pipe = Pipeline(steps=[\n",
        "    (\"preprocess\", preprocess),\n",
        "    (\"model\", clf)\n",
        "])\n",
        "\n",
        "# ---------- 5) Fit & evaluate ----------\n",
        "pipe.fit(X_train, y_train)\n",
        "proba = pipe.predict_proba(X_test)[:, 1]\n",
        "pred = (proba >= 0.5).astype(int)\n",
        "\n",
        "print(\"\\nROC-AUC:\", roc_auc_score(y_test, proba))\n",
        "print(\"PR-AUC (Average Precision):\", average_precision_score(y_test, proba))\n",
        "print(\"\\nClassification report (0.50 threshold):\\n\", classification_report(y_test, pred, digits=4))\n",
        "print(\"Confusion matrix:\\n\", confusion_matrix(y_test, pred))\n",
        "\n",
        "# Optional: pick a threshold targeting ~0.85 recall\n",
        "prec, rec, thr = precision_recall_curve(y_test, proba)\n",
        "target_recall = 0.85\n",
        "idx = np.argmax(rec >= target_recall)\n",
        "if idx < len(thr):\n",
        "    t_star = thr[idx]\n",
        "    pred_star = (proba >= t_star).astype(int)\n",
        "    print(f\"\\nUsing threshold ~{t_star:.3f} for ≈{target_recall:.2f} recall:\")\n",
        "    print(classification_report(y_test, pred_star, digits=4))"
      ],
      "metadata": {
        "colab": {
          "base_uri": "https://localhost:8080/"
        },
        "id": "bqMI-nfr71D3",
        "outputId": "9675655f-7978-481a-ace2-f17afded6b31"
      },
      "execution_count": 13,
      "outputs": [
        {
          "output_type": "stream",
          "name": "stdout",
          "text": [
            "Class balance: {0: 0.975, 1: 0.025}\n",
            "\n",
            "ROC-AUC: 0.5285897435897435\n",
            "PR-AUC (Average Precision): 0.03294996626298028\n",
            "\n",
            "Classification report (0.50 threshold):\n",
            "               precision    recall  f1-score   support\n",
            "\n",
            "           0     0.9772    0.6865    0.8065      1560\n",
            "           1     0.0298    0.3750    0.0551        40\n",
            "\n",
            "    accuracy                         0.6787      1600\n",
            "   macro avg     0.5035    0.5308    0.4308      1600\n",
            "weighted avg     0.9535    0.6787    0.7877      1600\n",
            "\n",
            "Confusion matrix:\n",
            " [[1071  489]\n",
            " [  25   15]]\n",
            "\n",
            "Using threshold ~0.356 for ≈0.85 recall:\n",
            "              precision    recall  f1-score   support\n",
            "\n",
            "           0     0.0000    0.0000    0.0000      1560\n",
            "           1     0.0250    1.0000    0.0488        40\n",
            "\n",
            "    accuracy                         0.0250      1600\n",
            "   macro avg     0.0125    0.5000    0.0244      1600\n",
            "weighted avg     0.0006    0.0250    0.0012      1600\n",
            "\n"
          ]
        },
        {
          "output_type": "stream",
          "name": "stderr",
          "text": [
            "/usr/local/lib/python3.12/dist-packages/sklearn/metrics/_classification.py:1565: UndefinedMetricWarning: Precision is ill-defined and being set to 0.0 in labels with no predicted samples. Use `zero_division` parameter to control this behavior.\n",
            "  _warn_prf(average, modifier, f\"{metric.capitalize()} is\", len(result))\n",
            "/usr/local/lib/python3.12/dist-packages/sklearn/metrics/_classification.py:1565: UndefinedMetricWarning: Precision is ill-defined and being set to 0.0 in labels with no predicted samples. Use `zero_division` parameter to control this behavior.\n",
            "  _warn_prf(average, modifier, f\"{metric.capitalize()} is\", len(result))\n",
            "/usr/local/lib/python3.12/dist-packages/sklearn/metrics/_classification.py:1565: UndefinedMetricWarning: Precision is ill-defined and being set to 0.0 in labels with no predicted samples. Use `zero_division` parameter to control this behavior.\n",
            "  _warn_prf(average, modifier, f\"{metric.capitalize()} is\", len(result))\n"
          ]
        }
      ]
    }
  ]
}